{
 "cells": [
  {
   "cell_type": "code",
   "execution_count": 1,
   "id": "fea3f15a",
   "metadata": {
    "_cell_guid": "b1076dfc-b9ad-4769-8c92-a6c4dae69d19",
    "_uuid": "8f2839f25d086af736a60e9eeb907d3b93b6e0e5",
    "execution": {
     "iopub.execute_input": "2022-02-13T04:48:42.845779Z",
     "iopub.status.busy": "2022-02-13T04:48:42.844104Z",
     "iopub.status.idle": "2022-02-13T04:48:42.860800Z",
     "shell.execute_reply": "2022-02-13T04:48:42.861267Z",
     "shell.execute_reply.started": "2022-02-13T04:40:49.998738Z"
    },
    "papermill": {
     "duration": 0.04649,
     "end_time": "2022-02-13T04:48:42.861554",
     "exception": false,
     "start_time": "2022-02-13T04:48:42.815064",
     "status": "completed"
    },
    "tags": []
   },
   "outputs": [],
   "source": [
    "# data processing\n",
    "import numpy as np\n",
    "import pandas as pd "
   ]
  },
  {
   "cell_type": "code",
   "execution_count": 2,
   "id": "ec35035e",
   "metadata": {
    "execution": {
     "iopub.execute_input": "2022-02-13T04:48:42.904960Z",
     "iopub.status.busy": "2022-02-13T04:48:42.902218Z",
     "iopub.status.idle": "2022-02-13T04:48:42.962683Z",
     "shell.execute_reply": "2022-02-13T04:48:42.963163Z",
     "shell.execute_reply.started": "2022-02-13T04:41:08.587550Z"
    },
    "papermill": {
     "duration": 0.081922,
     "end_time": "2022-02-13T04:48:42.963338",
     "exception": false,
     "start_time": "2022-02-13T04:48:42.881416",
     "status": "completed"
    },
    "tags": []
   },
   "outputs": [
    {
     "data": {
      "text/html": [
       "<div>\n",
       "<style scoped>\n",
       "    .dataframe tbody tr th:only-of-type {\n",
       "        vertical-align: middle;\n",
       "    }\n",
       "\n",
       "    .dataframe tbody tr th {\n",
       "        vertical-align: top;\n",
       "    }\n",
       "\n",
       "    .dataframe thead th {\n",
       "        text-align: right;\n",
       "    }\n",
       "</style>\n",
       "<table border=\"1\" class=\"dataframe\">\n",
       "  <thead>\n",
       "    <tr style=\"text-align: right;\">\n",
       "      <th></th>\n",
       "      <th>id</th>\n",
       "      <th>diagnosis</th>\n",
       "      <th>radius_mean</th>\n",
       "      <th>texture_mean</th>\n",
       "      <th>perimeter_mean</th>\n",
       "      <th>area_mean</th>\n",
       "      <th>smoothness_mean</th>\n",
       "      <th>compactness_mean</th>\n",
       "      <th>concavity_mean</th>\n",
       "      <th>concave points_mean</th>\n",
       "      <th>...</th>\n",
       "      <th>texture_worst</th>\n",
       "      <th>perimeter_worst</th>\n",
       "      <th>area_worst</th>\n",
       "      <th>smoothness_worst</th>\n",
       "      <th>compactness_worst</th>\n",
       "      <th>concavity_worst</th>\n",
       "      <th>concave points_worst</th>\n",
       "      <th>symmetry_worst</th>\n",
       "      <th>fractal_dimension_worst</th>\n",
       "      <th>Unnamed: 32</th>\n",
       "    </tr>\n",
       "  </thead>\n",
       "  <tbody>\n",
       "    <tr>\n",
       "      <th>0</th>\n",
       "      <td>842302</td>\n",
       "      <td>M</td>\n",
       "      <td>17.99</td>\n",
       "      <td>10.38</td>\n",
       "      <td>122.80</td>\n",
       "      <td>1001.0</td>\n",
       "      <td>0.11840</td>\n",
       "      <td>0.27760</td>\n",
       "      <td>0.3001</td>\n",
       "      <td>0.14710</td>\n",
       "      <td>...</td>\n",
       "      <td>17.33</td>\n",
       "      <td>184.60</td>\n",
       "      <td>2019.0</td>\n",
       "      <td>0.1622</td>\n",
       "      <td>0.6656</td>\n",
       "      <td>0.7119</td>\n",
       "      <td>0.2654</td>\n",
       "      <td>0.4601</td>\n",
       "      <td>0.11890</td>\n",
       "      <td>NaN</td>\n",
       "    </tr>\n",
       "    <tr>\n",
       "      <th>1</th>\n",
       "      <td>842517</td>\n",
       "      <td>M</td>\n",
       "      <td>20.57</td>\n",
       "      <td>17.77</td>\n",
       "      <td>132.90</td>\n",
       "      <td>1326.0</td>\n",
       "      <td>0.08474</td>\n",
       "      <td>0.07864</td>\n",
       "      <td>0.0869</td>\n",
       "      <td>0.07017</td>\n",
       "      <td>...</td>\n",
       "      <td>23.41</td>\n",
       "      <td>158.80</td>\n",
       "      <td>1956.0</td>\n",
       "      <td>0.1238</td>\n",
       "      <td>0.1866</td>\n",
       "      <td>0.2416</td>\n",
       "      <td>0.1860</td>\n",
       "      <td>0.2750</td>\n",
       "      <td>0.08902</td>\n",
       "      <td>NaN</td>\n",
       "    </tr>\n",
       "    <tr>\n",
       "      <th>2</th>\n",
       "      <td>84300903</td>\n",
       "      <td>M</td>\n",
       "      <td>19.69</td>\n",
       "      <td>21.25</td>\n",
       "      <td>130.00</td>\n",
       "      <td>1203.0</td>\n",
       "      <td>0.10960</td>\n",
       "      <td>0.15990</td>\n",
       "      <td>0.1974</td>\n",
       "      <td>0.12790</td>\n",
       "      <td>...</td>\n",
       "      <td>25.53</td>\n",
       "      <td>152.50</td>\n",
       "      <td>1709.0</td>\n",
       "      <td>0.1444</td>\n",
       "      <td>0.4245</td>\n",
       "      <td>0.4504</td>\n",
       "      <td>0.2430</td>\n",
       "      <td>0.3613</td>\n",
       "      <td>0.08758</td>\n",
       "      <td>NaN</td>\n",
       "    </tr>\n",
       "    <tr>\n",
       "      <th>3</th>\n",
       "      <td>84348301</td>\n",
       "      <td>M</td>\n",
       "      <td>11.42</td>\n",
       "      <td>20.38</td>\n",
       "      <td>77.58</td>\n",
       "      <td>386.1</td>\n",
       "      <td>0.14250</td>\n",
       "      <td>0.28390</td>\n",
       "      <td>0.2414</td>\n",
       "      <td>0.10520</td>\n",
       "      <td>...</td>\n",
       "      <td>26.50</td>\n",
       "      <td>98.87</td>\n",
       "      <td>567.7</td>\n",
       "      <td>0.2098</td>\n",
       "      <td>0.8663</td>\n",
       "      <td>0.6869</td>\n",
       "      <td>0.2575</td>\n",
       "      <td>0.6638</td>\n",
       "      <td>0.17300</td>\n",
       "      <td>NaN</td>\n",
       "    </tr>\n",
       "    <tr>\n",
       "      <th>4</th>\n",
       "      <td>84358402</td>\n",
       "      <td>M</td>\n",
       "      <td>20.29</td>\n",
       "      <td>14.34</td>\n",
       "      <td>135.10</td>\n",
       "      <td>1297.0</td>\n",
       "      <td>0.10030</td>\n",
       "      <td>0.13280</td>\n",
       "      <td>0.1980</td>\n",
       "      <td>0.10430</td>\n",
       "      <td>...</td>\n",
       "      <td>16.67</td>\n",
       "      <td>152.20</td>\n",
       "      <td>1575.0</td>\n",
       "      <td>0.1374</td>\n",
       "      <td>0.2050</td>\n",
       "      <td>0.4000</td>\n",
       "      <td>0.1625</td>\n",
       "      <td>0.2364</td>\n",
       "      <td>0.07678</td>\n",
       "      <td>NaN</td>\n",
       "    </tr>\n",
       "  </tbody>\n",
       "</table>\n",
       "<p>5 rows × 33 columns</p>\n",
       "</div>"
      ],
      "text/plain": [
       "         id diagnosis  radius_mean  texture_mean  perimeter_mean  area_mean  \\\n",
       "0    842302         M        17.99         10.38          122.80     1001.0   \n",
       "1    842517         M        20.57         17.77          132.90     1326.0   \n",
       "2  84300903         M        19.69         21.25          130.00     1203.0   \n",
       "3  84348301         M        11.42         20.38           77.58      386.1   \n",
       "4  84358402         M        20.29         14.34          135.10     1297.0   \n",
       "\n",
       "   smoothness_mean  compactness_mean  concavity_mean  concave points_mean  \\\n",
       "0          0.11840           0.27760          0.3001              0.14710   \n",
       "1          0.08474           0.07864          0.0869              0.07017   \n",
       "2          0.10960           0.15990          0.1974              0.12790   \n",
       "3          0.14250           0.28390          0.2414              0.10520   \n",
       "4          0.10030           0.13280          0.1980              0.10430   \n",
       "\n",
       "   ...  texture_worst  perimeter_worst  area_worst  smoothness_worst  \\\n",
       "0  ...          17.33           184.60      2019.0            0.1622   \n",
       "1  ...          23.41           158.80      1956.0            0.1238   \n",
       "2  ...          25.53           152.50      1709.0            0.1444   \n",
       "3  ...          26.50            98.87       567.7            0.2098   \n",
       "4  ...          16.67           152.20      1575.0            0.1374   \n",
       "\n",
       "   compactness_worst  concavity_worst  concave points_worst  symmetry_worst  \\\n",
       "0             0.6656           0.7119                0.2654          0.4601   \n",
       "1             0.1866           0.2416                0.1860          0.2750   \n",
       "2             0.4245           0.4504                0.2430          0.3613   \n",
       "3             0.8663           0.6869                0.2575          0.6638   \n",
       "4             0.2050           0.4000                0.1625          0.2364   \n",
       "\n",
       "   fractal_dimension_worst  Unnamed: 32  \n",
       "0                  0.11890          NaN  \n",
       "1                  0.08902          NaN  \n",
       "2                  0.08758          NaN  \n",
       "3                  0.17300          NaN  \n",
       "4                  0.07678          NaN  \n",
       "\n",
       "[5 rows x 33 columns]"
      ]
     },
     "execution_count": 2,
     "metadata": {},
     "output_type": "execute_result"
    }
   ],
   "source": [
    "df = pd.read_csv(r\"C:\\Users\\GS\\Desktop\\data.csv\")\n",
    "df.head()"
   ]
  },
  {
   "cell_type": "code",
   "execution_count": 3,
   "id": "a22bcddc",
   "metadata": {},
   "outputs": [
    {
     "name": "stdout",
     "output_type": "stream",
     "text": [
      "<class 'pandas.core.frame.DataFrame'>\n",
      "RangeIndex: 569 entries, 0 to 568\n",
      "Data columns (total 33 columns):\n",
      " #   Column                   Non-Null Count  Dtype  \n",
      "---  ------                   --------------  -----  \n",
      " 0   id                       569 non-null    int64  \n",
      " 1   diagnosis                569 non-null    object \n",
      " 2   radius_mean              569 non-null    float64\n",
      " 3   texture_mean             569 non-null    float64\n",
      " 4   perimeter_mean           569 non-null    float64\n",
      " 5   area_mean                569 non-null    float64\n",
      " 6   smoothness_mean          569 non-null    float64\n",
      " 7   compactness_mean         569 non-null    float64\n",
      " 8   concavity_mean           569 non-null    float64\n",
      " 9   concave points_mean      569 non-null    float64\n",
      " 10  symmetry_mean            569 non-null    float64\n",
      " 11  fractal_dimension_mean   569 non-null    float64\n",
      " 12  radius_se                569 non-null    float64\n",
      " 13  texture_se               569 non-null    float64\n",
      " 14  perimeter_se             569 non-null    float64\n",
      " 15  area_se                  569 non-null    float64\n",
      " 16  smoothness_se            569 non-null    float64\n",
      " 17  compactness_se           569 non-null    float64\n",
      " 18  concavity_se             569 non-null    float64\n",
      " 19  concave points_se        569 non-null    float64\n",
      " 20  symmetry_se              569 non-null    float64\n",
      " 21  fractal_dimension_se     569 non-null    float64\n",
      " 22  radius_worst             569 non-null    float64\n",
      " 23  texture_worst            569 non-null    float64\n",
      " 24  perimeter_worst          569 non-null    float64\n",
      " 25  area_worst               569 non-null    float64\n",
      " 26  smoothness_worst         569 non-null    float64\n",
      " 27  compactness_worst        569 non-null    float64\n",
      " 28  concavity_worst          569 non-null    float64\n",
      " 29  concave points_worst     569 non-null    float64\n",
      " 30  symmetry_worst           569 non-null    float64\n",
      " 31  fractal_dimension_worst  569 non-null    float64\n",
      " 32  Unnamed: 32              0 non-null      float64\n",
      "dtypes: float64(31), int64(1), object(1)\n",
      "memory usage: 146.8+ KB\n"
     ]
    }
   ],
   "source": [
    "df.info()"
   ]
  },
  {
   "cell_type": "code",
   "execution_count": 4,
   "id": "cb37639d",
   "metadata": {
    "execution": {
     "iopub.execute_input": "2022-02-13T04:48:43.007345Z",
     "iopub.status.busy": "2022-02-13T04:48:43.006427Z",
     "iopub.status.idle": "2022-02-13T04:48:44.360877Z",
     "shell.execute_reply": "2022-02-13T04:48:44.359929Z",
     "shell.execute_reply.started": "2022-02-13T04:41:39.642967Z"
    },
    "papermill": {
     "duration": 1.377684,
     "end_time": "2022-02-13T04:48:44.361032",
     "exception": false,
     "start_time": "2022-02-13T04:48:42.983348",
     "status": "completed"
    },
    "tags": []
   },
   "outputs": [],
   "source": [
    "import numpy as np\n",
    "import pandas as pd\n",
    "import seaborn as sns\n",
    "import matplotlib.pyplot as plt\n",
    "from sklearn import metrics\n",
    "from sklearn.model_selection import train_test_split\n",
    "from sklearn.preprocessing import StandardScaler"
   ]
  },
  {
   "cell_type": "code",
   "execution_count": 5,
   "id": "6cc491c1",
   "metadata": {
    "execution": {
     "iopub.execute_input": "2022-02-13T04:48:44.406280Z",
     "iopub.status.busy": "2022-02-13T04:48:44.405706Z",
     "iopub.status.idle": "2022-02-13T04:48:50.316255Z",
     "shell.execute_reply": "2022-02-13T04:48:50.315760Z",
     "shell.execute_reply.started": "2022-02-13T04:41:49.373466Z"
    },
    "papermill": {
     "duration": 5.935804,
     "end_time": "2022-02-13T04:48:50.316448",
     "exception": false,
     "start_time": "2022-02-13T04:48:44.380644",
     "status": "completed"
    },
    "tags": []
   },
   "outputs": [],
   "source": [
    "import tensorflow as tf\n",
    "from tensorflow import keras\n",
    "from tensorflow.keras import Sequential\n",
    "from tensorflow.keras.layers import Flatten,Dense,Dropout,BatchNormalization,Conv1D,MaxPool1D\n",
    "from tensorflow.keras.preprocessing.image import ImageDataGenerator\n",
    "\n",
    "from tensorflow.keras.optimizers import Adam"
   ]
  },
  {
   "cell_type": "code",
   "execution_count": 6,
   "id": "b9bd6c6e",
   "metadata": {
    "execution": {
     "iopub.execute_input": "2022-02-13T04:48:50.359293Z",
     "iopub.status.busy": "2022-02-13T04:48:50.358341Z",
     "iopub.status.idle": "2022-02-13T04:48:50.372266Z",
     "shell.execute_reply": "2022-02-13T04:48:50.371793Z",
     "shell.execute_reply.started": "2022-02-13T04:42:17.890810Z"
    },
    "papermill": {
     "duration": 0.036467,
     "end_time": "2022-02-13T04:48:50.372428",
     "exception": false,
     "start_time": "2022-02-13T04:48:50.335961",
     "status": "completed"
    },
    "tags": []
   },
   "outputs": [
    {
     "data": {
      "text/plain": [
       "array([1, 0])"
      ]
     },
     "execution_count": 6,
     "metadata": {},
     "output_type": "execute_result"
    }
   ],
   "source": [
    "from sklearn import preprocessing\n",
    " \n",
    "# label_encoder object knows how to understand word labels.\n",
    "label_encoder = preprocessing.LabelEncoder()\n",
    " \n",
    "# Encode labels in column 'species'.\n",
    "df['diagnosis']= label_encoder.fit_transform(df['diagnosis'])\n",
    " \n",
    "df['diagnosis'].unique()"
   ]
  },
  {
   "cell_type": "code",
   "execution_count": 7,
   "id": "ad5767ca",
   "metadata": {
    "execution": {
     "iopub.execute_input": "2022-02-13T04:48:50.417009Z",
     "iopub.status.busy": "2022-02-13T04:48:50.416342Z",
     "iopub.status.idle": "2022-02-13T04:48:50.418941Z",
     "shell.execute_reply": "2022-02-13T04:48:50.419482Z",
     "shell.execute_reply.started": "2022-02-13T04:42:46.333447Z"
    },
    "papermill": {
     "duration": 0.027758,
     "end_time": "2022-02-13T04:48:50.419646",
     "exception": false,
     "start_time": "2022-02-13T04:48:50.391888",
     "status": "completed"
    },
    "tags": []
   },
   "outputs": [],
   "source": [
    "y=df['diagnosis']\n",
    "X = df.drop(columns=['diagnosis','id','Unnamed: 32'],axis=1)"
   ]
  },
  {
   "cell_type": "code",
   "execution_count": 8,
   "id": "1880bee2",
   "metadata": {
    "execution": {
     "iopub.execute_input": "2022-02-13T04:48:50.461870Z",
     "iopub.status.busy": "2022-02-13T04:48:50.461022Z",
     "iopub.status.idle": "2022-02-13T04:48:50.465985Z",
     "shell.execute_reply": "2022-02-13T04:48:50.466568Z",
     "shell.execute_reply.started": "2022-02-13T04:43:01.967590Z"
    },
    "papermill": {
     "duration": 0.02763,
     "end_time": "2022-02-13T04:48:50.466735",
     "exception": false,
     "start_time": "2022-02-13T04:48:50.439105",
     "status": "completed"
    },
    "tags": []
   },
   "outputs": [
    {
     "name": "stdout",
     "output_type": "stream",
     "text": [
      "(569, 30) (569,)\n"
     ]
    }
   ],
   "source": [
    "print(X.shape,y.shape)"
   ]
  },
  {
   "cell_type": "code",
   "execution_count": 9,
   "id": "4e9b407b",
   "metadata": {
    "execution": {
     "iopub.execute_input": "2022-02-13T04:48:50.509639Z",
     "iopub.status.busy": "2022-02-13T04:48:50.508983Z",
     "iopub.status.idle": "2022-02-13T04:48:50.514593Z",
     "shell.execute_reply": "2022-02-13T04:48:50.515101Z",
     "shell.execute_reply.started": "2022-02-13T04:43:15.176206Z"
    },
    "papermill": {
     "duration": 0.028375,
     "end_time": "2022-02-13T04:48:50.515269",
     "exception": false,
     "start_time": "2022-02-13T04:48:50.486894",
     "status": "completed"
    },
    "tags": []
   },
   "outputs": [],
   "source": [
    "X_train,X_test,y_train,y_test = train_test_split(X,y,test_size=0.2,random_state=42)"
   ]
  },
  {
   "cell_type": "code",
   "execution_count": 10,
   "id": "24f50972",
   "metadata": {
    "execution": {
     "iopub.execute_input": "2022-02-13T04:48:50.557996Z",
     "iopub.status.busy": "2022-02-13T04:48:50.557386Z",
     "iopub.status.idle": "2022-02-13T04:48:50.567467Z",
     "shell.execute_reply": "2022-02-13T04:48:50.568022Z",
     "shell.execute_reply.started": "2022-02-13T04:43:24.892461Z"
    },
    "papermill": {
     "duration": 0.033117,
     "end_time": "2022-02-13T04:48:50.568192",
     "exception": false,
     "start_time": "2022-02-13T04:48:50.535075",
     "status": "completed"
    },
    "tags": []
   },
   "outputs": [],
   "source": [
    "scaler = StandardScaler()\n",
    "X_train = scaler.fit_transform(X_train)\n",
    "X_test = scaler.transform(X_test)"
   ]
  },
  {
   "cell_type": "code",
   "execution_count": 11,
   "id": "e4b55417",
   "metadata": {
    "execution": {
     "iopub.execute_input": "2022-02-13T04:48:50.611062Z",
     "iopub.status.busy": "2022-02-13T04:48:50.610149Z",
     "iopub.status.idle": "2022-02-13T04:48:50.616047Z",
     "shell.execute_reply": "2022-02-13T04:48:50.616731Z",
     "shell.execute_reply.started": "2022-02-13T04:43:32.799947Z"
    },
    "papermill": {
     "duration": 0.029085,
     "end_time": "2022-02-13T04:48:50.616979",
     "exception": false,
     "start_time": "2022-02-13T04:48:50.587894",
     "status": "completed"
    },
    "tags": []
   },
   "outputs": [
    {
     "name": "stdout",
     "output_type": "stream",
     "text": [
      "(455, 30)\n",
      "(114, 30)\n"
     ]
    }
   ],
   "source": [
    "print(X_train.shape)\n",
    "print(X_test.shape)"
   ]
  },
  {
   "cell_type": "markdown",
   "id": "67a62358",
   "metadata": {
    "papermill": {
     "duration": 0.019499,
     "end_time": "2022-02-13T04:48:50.658330",
     "exception": false,
     "start_time": "2022-02-13T04:48:50.638831",
     "status": "completed"
    },
    "tags": []
   },
   "source": [
    "As a CNN accepts only 3Dimensional data , we have to convert both X_train,X_test into 3D layers"
   ]
  },
  {
   "cell_type": "code",
   "execution_count": 12,
   "id": "928e6595",
   "metadata": {
    "execution": {
     "iopub.execute_input": "2022-02-13T04:48:50.705025Z",
     "iopub.status.busy": "2022-02-13T04:48:50.704312Z",
     "iopub.status.idle": "2022-02-13T04:48:50.706014Z",
     "shell.execute_reply": "2022-02-13T04:48:50.706557Z",
     "shell.execute_reply.started": "2022-02-13T04:44:18.611364Z"
    },
    "papermill": {
     "duration": 0.028586,
     "end_time": "2022-02-13T04:48:50.706731",
     "exception": false,
     "start_time": "2022-02-13T04:48:50.678145",
     "status": "completed"
    },
    "tags": []
   },
   "outputs": [],
   "source": [
    "\n",
    "X_train = X_train.reshape(455,30,1)\n",
    "X_test = X_test.reshape(114,30,1)"
   ]
  },
  {
   "cell_type": "code",
   "execution_count": 13,
   "id": "446e55ac",
   "metadata": {
    "execution": {
     "iopub.execute_input": "2022-02-13T04:48:50.749755Z",
     "iopub.status.busy": "2022-02-13T04:48:50.749185Z",
     "iopub.status.idle": "2022-02-13T04:48:50.754663Z",
     "shell.execute_reply": "2022-02-13T04:48:50.755162Z",
     "shell.execute_reply.started": "2022-02-13T04:44:26.428343Z"
    },
    "papermill": {
     "duration": 0.028649,
     "end_time": "2022-02-13T04:48:50.755338",
     "exception": false,
     "start_time": "2022-02-13T04:48:50.726689",
     "status": "completed"
    },
    "tags": []
   },
   "outputs": [
    {
     "data": {
      "text/plain": [
       "array([[[-1.44075296],\n",
       "        [-0.43531947],\n",
       "        [-1.36208497],\n",
       "        ...,\n",
       "        [ 0.9320124 ],\n",
       "        [ 2.09724217],\n",
       "        [ 1.88645014]],\n",
       "\n",
       "       [[ 1.97409619],\n",
       "        [ 1.73302577],\n",
       "        [ 2.09167167],\n",
       "        ...,\n",
       "        [ 2.6989469 ],\n",
       "        [ 1.89116053],\n",
       "        [ 2.49783848]],\n",
       "\n",
       "       [[-1.39998202],\n",
       "        [-1.24962228],\n",
       "        [-1.34520926],\n",
       "        ...,\n",
       "        [-0.97023893],\n",
       "        [ 0.59760192],\n",
       "        [ 0.0578942 ]],\n",
       "\n",
       "       ...,\n",
       "\n",
       "       [[ 0.04880192],\n",
       "        [-0.55500086],\n",
       "        [-0.06512547],\n",
       "        ...,\n",
       "        [-1.23903365],\n",
       "        [-0.70863864],\n",
       "        [-1.27145475]],\n",
       "\n",
       "       [[-0.03896885],\n",
       "        [ 0.10207345],\n",
       "        [-0.03137406],\n",
       "        ...,\n",
       "        [ 1.05001236],\n",
       "        [ 0.43432185],\n",
       "        [ 1.21336207]],\n",
       "\n",
       "       [[-0.54860557],\n",
       "        [ 0.31327591],\n",
       "        [-0.60350155],\n",
       "        ...,\n",
       "        [-0.61102866],\n",
       "        [-0.3345212 ],\n",
       "        [-0.84628745]]])"
      ]
     },
     "execution_count": 13,
     "metadata": {},
     "output_type": "execute_result"
    }
   ],
   "source": [
    "X_train"
   ]
  },
  {
   "cell_type": "code",
   "execution_count": 14,
   "id": "2085acf3",
   "metadata": {
    "execution": {
     "iopub.execute_input": "2022-02-13T04:48:50.798735Z",
     "iopub.status.busy": "2022-02-13T04:48:50.798164Z",
     "iopub.status.idle": "2022-02-13T04:48:50.980807Z",
     "shell.execute_reply": "2022-02-13T04:48:50.981746Z",
     "shell.execute_reply.started": "2022-02-13T04:44:40.535449Z"
    },
    "papermill": {
     "duration": 0.206315,
     "end_time": "2022-02-13T04:48:50.981999",
     "exception": false,
     "start_time": "2022-02-13T04:48:50.775684",
     "status": "completed"
    },
    "tags": []
   },
   "outputs": [],
   "source": [
    "epochs = 50\n",
    "\n",
    "model = Sequential()\n",
    "model.add(Conv1D(filters=32,kernel_size=2,activation='relu',input_shape=(30,1)))\n",
    "model.add(BatchNormalization())\n",
    "model.add(Dropout(0.2))\n",
    "\n",
    "model.add(Conv1D(filters=64,kernel_size=2,activation='relu'))\n",
    "model.add(BatchNormalization())\n",
    "model.add(Dropout(0.5))\n",
    "\n",
    "model.add(Flatten())\n",
    "model.add(Dense(64,activation='relu'))\n",
    "model.add(Dropout(0.5))\n",
    "\n",
    "model.add(Dense(1,activation='sigmoid'))"
   ]
  },
  {
   "cell_type": "code",
   "execution_count": 15,
   "id": "0b804b6b",
   "metadata": {
    "execution": {
     "iopub.execute_input": "2022-02-13T04:48:51.029303Z",
     "iopub.status.busy": "2022-02-13T04:48:51.028334Z",
     "iopub.status.idle": "2022-02-13T04:48:51.040158Z",
     "shell.execute_reply": "2022-02-13T04:48:51.040654Z",
     "shell.execute_reply.started": "2022-02-13T04:45:07.812539Z"
    },
    "papermill": {
     "duration": 0.036124,
     "end_time": "2022-02-13T04:48:51.040825",
     "exception": false,
     "start_time": "2022-02-13T04:48:51.004701",
     "status": "completed"
    },
    "tags": []
   },
   "outputs": [
    {
     "name": "stdout",
     "output_type": "stream",
     "text": [
      "Model: \"sequential\"\n",
      "_________________________________________________________________\n",
      " Layer (type)                Output Shape              Param #   \n",
      "=================================================================\n",
      " conv1d (Conv1D)             (None, 29, 32)            96        \n",
      "                                                                 \n",
      " batch_normalization (BatchN  (None, 29, 32)           128       \n",
      " ormalization)                                                   \n",
      "                                                                 \n",
      " dropout (Dropout)           (None, 29, 32)            0         \n",
      "                                                                 \n",
      " conv1d_1 (Conv1D)           (None, 28, 64)            4160      \n",
      "                                                                 \n",
      " batch_normalization_1 (Batc  (None, 28, 64)           256       \n",
      " hNormalization)                                                 \n",
      "                                                                 \n",
      " dropout_1 (Dropout)         (None, 28, 64)            0         \n",
      "                                                                 \n",
      " flatten (Flatten)           (None, 1792)              0         \n",
      "                                                                 \n",
      " dense (Dense)               (None, 64)                114752    \n",
      "                                                                 \n",
      " dropout_2 (Dropout)         (None, 64)                0         \n",
      "                                                                 \n",
      " dense_1 (Dense)             (None, 1)                 65        \n",
      "                                                                 \n",
      "=================================================================\n",
      "Total params: 119,457\n",
      "Trainable params: 119,265\n",
      "Non-trainable params: 192\n",
      "_________________________________________________________________\n"
     ]
    }
   ],
   "source": [
    "model.summary()"
   ]
  },
  {
   "cell_type": "code",
   "execution_count": 16,
   "id": "2e1e2d99",
   "metadata": {
    "execution": {
     "iopub.execute_input": "2022-02-13T04:48:51.085829Z",
     "iopub.status.busy": "2022-02-13T04:48:51.085275Z",
     "iopub.status.idle": "2022-02-13T04:48:51.099984Z",
     "shell.execute_reply": "2022-02-13T04:48:51.100476Z",
     "shell.execute_reply.started": "2022-02-13T04:45:25.365453Z"
    },
    "papermill": {
     "duration": 0.038501,
     "end_time": "2022-02-13T04:48:51.100639",
     "exception": false,
     "start_time": "2022-02-13T04:48:51.062138",
     "status": "completed"
    },
    "tags": []
   },
   "outputs": [
    {
     "name": "stderr",
     "output_type": "stream",
     "text": [
      "WARNING:absl:`lr` is deprecated, please use `learning_rate` instead, or use the legacy optimizer, e.g.,tf.keras.optimizers.legacy.Adam.\n"
     ]
    }
   ],
   "source": [
    "model.compile(optimizer=Adam(lr=0.00005),loss='binary_crossentropy',metrics=['accuracy'])"
   ]
  },
  {
   "cell_type": "code",
   "execution_count": 17,
   "id": "ecbe933e",
   "metadata": {
    "execution": {
     "iopub.execute_input": "2022-02-13T04:48:51.147261Z",
     "iopub.status.busy": "2022-02-13T04:48:51.146693Z",
     "iopub.status.idle": "2022-02-13T04:49:00.098751Z",
     "shell.execute_reply": "2022-02-13T04:49:00.099196Z",
     "shell.execute_reply.started": "2022-02-13T04:45:36.267224Z"
    },
    "papermill": {
     "duration": 8.976923,
     "end_time": "2022-02-13T04:49:00.099409",
     "exception": false,
     "start_time": "2022-02-13T04:48:51.122486",
     "status": "completed"
    },
    "tags": []
   },
   "outputs": [
    {
     "name": "stdout",
     "output_type": "stream",
     "text": [
      "Epoch 1/50\n",
      "15/15 [==============================] - 25s 156ms/step - loss: 0.3890 - accuracy: 0.8571 - val_loss: 0.4218 - val_accuracy: 0.9825\n",
      "Epoch 2/50\n",
      "15/15 [==============================] - 3s 238ms/step - loss: 0.1816 - accuracy: 0.9451 - val_loss: 0.3880 - val_accuracy: 0.9561\n",
      "Epoch 3/50\n",
      "15/15 [==============================] - 0s 33ms/step - loss: 0.0938 - accuracy: 0.9692 - val_loss: 0.3900 - val_accuracy: 0.9474\n",
      "Epoch 4/50\n",
      "15/15 [==============================] - 0s 34ms/step - loss: 0.0873 - accuracy: 0.9714 - val_loss: 0.3608 - val_accuracy: 0.9474\n",
      "Epoch 5/50\n",
      "15/15 [==============================] - 1s 35ms/step - loss: 0.1094 - accuracy: 0.9604 - val_loss: 0.3314 - val_accuracy: 0.9649\n",
      "Epoch 6/50\n",
      "15/15 [==============================] - 1s 39ms/step - loss: 0.0768 - accuracy: 0.9626 - val_loss: 0.3166 - val_accuracy: 0.9649\n",
      "Epoch 7/50\n",
      "15/15 [==============================] - 3s 186ms/step - loss: 0.0874 - accuracy: 0.9758 - val_loss: 0.3063 - val_accuracy: 0.9737\n",
      "Epoch 8/50\n",
      "15/15 [==============================] - 0s 31ms/step - loss: 0.0637 - accuracy: 0.9736 - val_loss: 0.3284 - val_accuracy: 0.9298\n",
      "Epoch 9/50\n",
      "15/15 [==============================] - 0s 33ms/step - loss: 0.0599 - accuracy: 0.9758 - val_loss: 0.2889 - val_accuracy: 0.9474\n",
      "Epoch 10/50\n",
      "15/15 [==============================] - 1s 38ms/step - loss: 0.0634 - accuracy: 0.9846 - val_loss: 0.2570 - val_accuracy: 0.9474\n",
      "Epoch 11/50\n",
      "15/15 [==============================] - 0s 34ms/step - loss: 0.0611 - accuracy: 0.9758 - val_loss: 0.2615 - val_accuracy: 0.9386\n",
      "Epoch 12/50\n",
      "15/15 [==============================] - 3s 183ms/step - loss: 0.0585 - accuracy: 0.9714 - val_loss: 0.2545 - val_accuracy: 0.9298\n",
      "Epoch 13/50\n",
      "15/15 [==============================] - 0s 30ms/step - loss: 0.0550 - accuracy: 0.9714 - val_loss: 0.1911 - val_accuracy: 0.9561\n",
      "Epoch 14/50\n",
      "15/15 [==============================] - 0s 33ms/step - loss: 0.0488 - accuracy: 0.9802 - val_loss: 0.1712 - val_accuracy: 0.9649\n",
      "Epoch 15/50\n",
      "15/15 [==============================] - 1s 36ms/step - loss: 0.0556 - accuracy: 0.9802 - val_loss: 0.1937 - val_accuracy: 0.9649\n",
      "Epoch 16/50\n",
      "15/15 [==============================] - 1s 36ms/step - loss: 0.0599 - accuracy: 0.9824 - val_loss: 0.1677 - val_accuracy: 0.9561\n",
      "Epoch 17/50\n",
      "15/15 [==============================] - 2s 176ms/step - loss: 0.0481 - accuracy: 0.9846 - val_loss: 0.1667 - val_accuracy: 0.9561\n",
      "Epoch 18/50\n",
      "15/15 [==============================] - 1s 35ms/step - loss: 0.0448 - accuracy: 0.9824 - val_loss: 0.1379 - val_accuracy: 0.9561\n",
      "Epoch 19/50\n",
      "15/15 [==============================] - 1s 41ms/step - loss: 0.0537 - accuracy: 0.9780 - val_loss: 0.1118 - val_accuracy: 0.9561\n",
      "Epoch 20/50\n",
      "15/15 [==============================] - 1s 38ms/step - loss: 0.0692 - accuracy: 0.9714 - val_loss: 0.1079 - val_accuracy: 0.9649\n",
      "Epoch 21/50\n",
      "15/15 [==============================] - 1s 36ms/step - loss: 0.0606 - accuracy: 0.9758 - val_loss: 0.1025 - val_accuracy: 0.9737\n",
      "Epoch 22/50\n",
      "15/15 [==============================] - 3s 186ms/step - loss: 0.0724 - accuracy: 0.9758 - val_loss: 0.1114 - val_accuracy: 0.9649\n",
      "Epoch 23/50\n",
      "15/15 [==============================] - 0s 31ms/step - loss: 0.0253 - accuracy: 0.9890 - val_loss: 0.1033 - val_accuracy: 0.9649\n",
      "Epoch 24/50\n",
      "15/15 [==============================] - 0s 33ms/step - loss: 0.0329 - accuracy: 0.9890 - val_loss: 0.0978 - val_accuracy: 0.9737\n",
      "Epoch 25/50\n",
      "15/15 [==============================] - 1s 35ms/step - loss: 0.0334 - accuracy: 0.9780 - val_loss: 0.0828 - val_accuracy: 0.9649\n",
      "Epoch 26/50\n",
      "15/15 [==============================] - 0s 34ms/step - loss: 0.0420 - accuracy: 0.9890 - val_loss: 0.0827 - val_accuracy: 0.9737\n",
      "Epoch 27/50\n",
      "15/15 [==============================] - 3s 186ms/step - loss: 0.0314 - accuracy: 0.9868 - val_loss: 0.0865 - val_accuracy: 0.9737\n",
      "Epoch 28/50\n",
      "15/15 [==============================] - 0s 33ms/step - loss: 0.0315 - accuracy: 0.9868 - val_loss: 0.0959 - val_accuracy: 0.9649\n",
      "Epoch 29/50\n",
      "15/15 [==============================] - 1s 37ms/step - loss: 0.0349 - accuracy: 0.9846 - val_loss: 0.0987 - val_accuracy: 0.9737\n",
      "Epoch 30/50\n",
      "15/15 [==============================] - 1s 38ms/step - loss: 0.0334 - accuracy: 0.9912 - val_loss: 0.0957 - val_accuracy: 0.9561\n",
      "Epoch 31/50\n",
      "15/15 [==============================] - 0s 33ms/step - loss: 0.0193 - accuracy: 0.9890 - val_loss: 0.0936 - val_accuracy: 0.9561\n",
      "Epoch 32/50\n",
      "15/15 [==============================] - 3s 185ms/step - loss: 0.0162 - accuracy: 0.9934 - val_loss: 0.0846 - val_accuracy: 0.9561\n",
      "Epoch 33/50\n",
      "15/15 [==============================] - 0s 32ms/step - loss: 0.0232 - accuracy: 0.9868 - val_loss: 0.0783 - val_accuracy: 0.9649\n",
      "Epoch 34/50\n",
      "15/15 [==============================] - 1s 38ms/step - loss: 0.0202 - accuracy: 0.9912 - val_loss: 0.0744 - val_accuracy: 0.9825\n",
      "Epoch 35/50\n",
      "15/15 [==============================] - 1s 37ms/step - loss: 0.0280 - accuracy: 0.9890 - val_loss: 0.0823 - val_accuracy: 0.9737\n",
      "Epoch 36/50\n",
      "15/15 [==============================] - 1s 34ms/step - loss: 0.0655 - accuracy: 0.9846 - val_loss: 0.1012 - val_accuracy: 0.9737\n",
      "Epoch 37/50\n",
      "15/15 [==============================] - 3s 188ms/step - loss: 0.0391 - accuracy: 0.9868 - val_loss: 0.1056 - val_accuracy: 0.9737\n",
      "Epoch 38/50\n",
      "15/15 [==============================] - 0s 30ms/step - loss: 0.0766 - accuracy: 0.9758 - val_loss: 0.1017 - val_accuracy: 0.9737\n",
      "Epoch 39/50\n",
      "15/15 [==============================] - 1s 40ms/step - loss: 0.0449 - accuracy: 0.9846 - val_loss: 0.0905 - val_accuracy: 0.9737\n",
      "Epoch 40/50\n",
      "15/15 [==============================] - 1s 48ms/step - loss: 0.0327 - accuracy: 0.9912 - val_loss: 0.0939 - val_accuracy: 0.9737\n",
      "Epoch 41/50\n",
      "15/15 [==============================] - 1s 63ms/step - loss: 0.0617 - accuracy: 0.9780 - val_loss: 0.0961 - val_accuracy: 0.9737\n",
      "Epoch 42/50\n",
      "15/15 [==============================] - 2s 148ms/step - loss: 0.0414 - accuracy: 0.9868 - val_loss: 0.1033 - val_accuracy: 0.9737\n",
      "Epoch 43/50\n",
      "15/15 [==============================] - 1s 37ms/step - loss: 0.0291 - accuracy: 0.9868 - val_loss: 0.1206 - val_accuracy: 0.9649\n",
      "Epoch 44/50\n",
      "15/15 [==============================] - 1s 40ms/step - loss: 0.0614 - accuracy: 0.9780 - val_loss: 0.0989 - val_accuracy: 0.9649\n",
      "Epoch 45/50\n",
      "15/15 [==============================] - 1s 35ms/step - loss: 0.0462 - accuracy: 0.9824 - val_loss: 0.0808 - val_accuracy: 0.9737\n",
      "Epoch 46/50\n",
      "15/15 [==============================] - 3s 194ms/step - loss: 0.0391 - accuracy: 0.9846 - val_loss: 0.0900 - val_accuracy: 0.9737\n",
      "Epoch 47/50\n",
      "15/15 [==============================] - 1s 42ms/step - loss: 0.0250 - accuracy: 0.9912 - val_loss: 0.0997 - val_accuracy: 0.9737\n",
      "Epoch 48/50\n",
      "15/15 [==============================] - 1s 34ms/step - loss: 0.0349 - accuracy: 0.9868 - val_loss: 0.0809 - val_accuracy: 0.9649\n",
      "Epoch 49/50\n",
      "15/15 [==============================] - 1s 98ms/step - loss: 0.0388 - accuracy: 0.9890 - val_loss: 0.0748 - val_accuracy: 0.9737\n",
      "Epoch 50/50\n",
      "15/15 [==============================] - 1s 35ms/step - loss: 0.0290 - accuracy: 0.9934 - val_loss: 0.0867 - val_accuracy: 0.9649\n"
     ]
    }
   ],
   "source": [
    "history = model.fit(X_train,y_train,epochs=epochs,validation_data=(X_test,y_test),verbose=1)"
   ]
  },
  {
   "cell_type": "code",
   "execution_count": 18,
   "id": "6c9b24cd",
   "metadata": {
    "execution": {
     "iopub.execute_input": "2022-02-13T04:49:00.232742Z",
     "iopub.status.busy": "2022-02-13T04:49:00.232111Z",
     "iopub.status.idle": "2022-02-13T04:49:00.238160Z",
     "shell.execute_reply": "2022-02-13T04:49:00.238685Z",
     "shell.execute_reply.started": "2022-02-13T04:45:52.616629Z"
    },
    "papermill": {
     "duration": 0.07508,
     "end_time": "2022-02-13T04:49:00.238850",
     "exception": false,
     "start_time": "2022-02-13T04:49:00.163770",
     "status": "completed"
    },
    "tags": []
   },
   "outputs": [],
   "source": [
    "def plot_learning(history,epoch):\n",
    "    epoch_range = range(1,epoch+1)\n",
    "    plt.plot(epoch_range,history.history['accuracy'])\n",
    "    plt.plot(epoch_range,history.history['val_accuracy'])\n",
    "    plt.title('Model Accuracy')\n",
    "    plt.ylabel('Accuracy')\n",
    "    plt.xlabel('Epoch')\n",
    "    plt.legend(['Train','Val'],loc='upper left')\n",
    "    plt.show()\n",
    "\n",
    "    plt.plot(epoch_range,history.history['loss'])\n",
    "    plt.plot(epoch_range,history.history['val_loss'])\n",
    "    plt.title('Model Loss')\n",
    "    plt.ylabel('Loss')\n",
    "    plt.xlabel('Epoch')\n",
    "    plt.legend(['Train','Val'],loc='upper left')\n",
    "    plt.show()"
   ]
  },
  {
   "cell_type": "markdown",
   "id": "0efafbf4",
   "metadata": {
    "papermill": {
     "duration": 0.063685,
     "end_time": "2022-02-13T04:49:00.367232",
     "exception": false,
     "start_time": "2022-02-13T04:49:00.303547",
     "status": "completed"
    },
    "tags": []
   },
   "source": [
    "- If validation accuracy is greater than Training accuracy it means the model isn't overfitting\n",
    "- unless and untill validation loss goes above the Training loss we can keep on Training our model"
   ]
  },
  {
   "cell_type": "code",
   "execution_count": 19,
   "id": "949e751a",
   "metadata": {
    "execution": {
     "iopub.execute_input": "2022-02-13T04:49:00.499065Z",
     "iopub.status.busy": "2022-02-13T04:49:00.498506Z",
     "iopub.status.idle": "2022-02-13T04:49:00.890111Z",
     "shell.execute_reply": "2022-02-13T04:49:00.890528Z",
     "shell.execute_reply.started": "2022-02-13T04:46:20.194499Z"
    },
    "papermill": {
     "duration": 0.458404,
     "end_time": "2022-02-13T04:49:00.890693",
     "exception": false,
     "start_time": "2022-02-13T04:49:00.432289",
     "status": "completed"
    },
    "tags": []
   },
   "outputs": [
    {
     "data": {
      "image/png": "[encoded data removed]",
      "text/plain": [
       "<Figure size 640x480 with 1 Axes>"
      ]
     },
     "metadata": {},
     "output_type": "display_data"
    },
    {
     "data": {
      "image/png": "[encoded data removed]",
      "text/plain": [
       "<Figure size 640x480 with 1 Axes>"
      ]
     },
     "metadata": {},
     "output_type": "display_data"
    }
   ],
   "source": [
    "plot_learning(history,epochs)"
   ]
  },
  {
   "cell_type": "code",
   "execution_count": 20,
   "id": "30e95aab",
   "metadata": {
    "execution": {
     "iopub.execute_input": "2022-02-13T04:49:01.028526Z",
     "iopub.status.busy": "2022-02-13T04:49:01.027897Z",
     "iopub.status.idle": "2022-02-13T04:49:01.230715Z",
     "shell.execute_reply": "2022-02-13T04:49:01.230097Z",
     "shell.execute_reply.started": "2022-02-13T04:46:34.547006Z"
    },
    "papermill": {
     "duration": 0.272267,
     "end_time": "2022-02-13T04:49:01.230888",
     "exception": false,
     "start_time": "2022-02-13T04:49:00.958621",
     "status": "completed"
    },
    "tags": []
   },
   "outputs": [
    {
     "name": "stdout",
     "output_type": "stream",
     "text": [
      "4/4 [==============================] - 4s 49ms/step\n"
     ]
    }
   ],
   "source": [
    "y_pred = (model.predict(X_test) > 0.5).astype(\"int32\")"
   ]
  },
  {
   "cell_type": "code",
   "execution_count": 21,
   "id": "ede3ae7b",
   "metadata": {
    "execution": {
     "iopub.execute_input": "2022-02-13T04:49:01.371133Z",
     "iopub.status.busy": "2022-02-13T04:49:01.370396Z",
     "iopub.status.idle": "2022-02-13T04:49:01.373519Z",
     "shell.execute_reply": "2022-02-13T04:49:01.373965Z",
     "shell.execute_reply.started": "2022-02-13T04:46:42.709996Z"
    },
    "papermill": {
     "duration": 0.076076,
     "end_time": "2022-02-13T04:49:01.374129",
     "exception": false,
     "start_time": "2022-02-13T04:49:01.298053",
     "status": "completed"
    },
    "tags": []
   },
   "outputs": [
    {
     "data": {
      "text/plain": [
       "array([[0],\n",
       "       [1],\n",
       "       [1],\n",
       "       [0],\n",
       "       [0],\n",
       "       [1],\n",
       "       [1],\n",
       "       [1],\n",
       "       [1],\n",
       "       [0],\n",
       "       [1],\n",
       "       [1],\n",
       "       [0],\n",
       "       [1],\n",
       "       [0],\n",
       "       [1],\n",
       "       [0],\n",
       "       [0],\n",
       "       [0],\n",
       "       [1],\n",
       "       [0],\n",
       "       [0],\n",
       "       [1],\n",
       "       [0],\n",
       "       [0],\n",
       "       [0],\n",
       "       [0],\n",
       "       [0],\n",
       "       [0],\n",
       "       [1],\n",
       "       [0],\n",
       "       [0],\n",
       "       [0],\n",
       "       [0],\n",
       "       [0],\n",
       "       [0],\n",
       "       [1],\n",
       "       [0],\n",
       "       [1],\n",
       "       [0],\n",
       "       [0],\n",
       "       [1],\n",
       "       [0],\n",
       "       [0],\n",
       "       [0],\n",
       "       [0],\n",
       "       [0],\n",
       "       [0],\n",
       "       [0],\n",
       "       [0],\n",
       "       [1],\n",
       "       [1],\n",
       "       [0],\n",
       "       [0],\n",
       "       [0],\n",
       "       [0],\n",
       "       [0],\n",
       "       [1],\n",
       "       [1],\n",
       "       [0],\n",
       "       [0],\n",
       "       [1],\n",
       "       [1],\n",
       "       [0],\n",
       "       [0],\n",
       "       [0],\n",
       "       [1],\n",
       "       [1],\n",
       "       [0],\n",
       "       [0],\n",
       "       [1],\n",
       "       [1],\n",
       "       [0],\n",
       "       [1],\n",
       "       [0],\n",
       "       [0],\n",
       "       [0],\n",
       "       [0],\n",
       "       [0],\n",
       "       [0],\n",
       "       [1],\n",
       "       [0],\n",
       "       [1],\n",
       "       [1],\n",
       "       [1],\n",
       "       [1],\n",
       "       [1],\n",
       "       [1],\n",
       "       [0],\n",
       "       [0],\n",
       "       [0],\n",
       "       [0],\n",
       "       [0],\n",
       "       [0],\n",
       "       [0],\n",
       "       [0],\n",
       "       [1],\n",
       "       [1],\n",
       "       [0],\n",
       "       [1],\n",
       "       [1],\n",
       "       [0],\n",
       "       [1],\n",
       "       [1],\n",
       "       [0],\n",
       "       [0],\n",
       "       [0],\n",
       "       [1],\n",
       "       [0],\n",
       "       [0],\n",
       "       [1],\n",
       "       [0],\n",
       "       [0],\n",
       "       [1]])"
      ]
     },
     "execution_count": 21,
     "metadata": {},
     "output_type": "execute_result"
    }
   ],
   "source": [
    "y_pred"
   ]
  },
  {
   "cell_type": "code",
   "execution_count": 22,
   "id": "01d42c62",
   "metadata": {
    "execution": {
     "iopub.execute_input": "2022-02-13T04:49:01.515065Z",
     "iopub.status.busy": "2022-02-13T04:49:01.514159Z",
     "iopub.status.idle": "2022-02-13T04:49:01.518205Z",
     "shell.execute_reply": "2022-02-13T04:49:01.517642Z",
     "shell.execute_reply.started": "2022-02-13T04:47:24.869793Z"
    },
    "papermill": {
     "duration": 0.076526,
     "end_time": "2022-02-13T04:49:01.518350",
     "exception": false,
     "start_time": "2022-02-13T04:49:01.441824",
     "status": "completed"
    },
    "tags": []
   },
   "outputs": [
    {
     "data": {
      "text/plain": [
       "0.9649122807017544"
      ]
     },
     "execution_count": 22,
     "metadata": {},
     "output_type": "execute_result"
    }
   ],
   "source": [
    "from sklearn.metrics import accuracy_score,confusion_matrix\n",
    "accuracy_score(y_test,y_pred)"
   ]
  },
  {
   "cell_type": "code",
   "execution_count": 23,
   "id": "e62db360",
   "metadata": {
    "execution": {
     "iopub.execute_input": "2022-02-13T04:49:01.658311Z",
     "iopub.status.busy": "2022-02-13T04:49:01.656335Z",
     "iopub.status.idle": "2022-02-13T04:49:01.896920Z",
     "shell.execute_reply": "2022-02-13T04:49:01.896279Z",
     "shell.execute_reply.started": "2022-02-13T04:47:57.204183Z"
    },
    "papermill": {
     "duration": 0.311593,
     "end_time": "2022-02-13T04:49:01.897053",
     "exception": false,
     "start_time": "2022-02-13T04:49:01.585460",
     "status": "completed"
    },
    "tags": []
   },
   "outputs": [
    {
     "data": {
      "text/plain": [
       "<AxesSubplot:>"
      ]
     },
     "execution_count": 23,
     "metadata": {},
     "output_type": "execute_result"
    },
    {
     "data": {
      "image/png": "[encoded data removed]",
      "text/plain": [
       "<Figure size 640x480 with 1 Axes>"
      ]
     },
     "metadata": {},
     "output_type": "display_data"
    }
   ],
   "source": [
    "import seaborn as sns\n",
    "sns.set_style(\"white\")\n",
    "cm=confusion_matrix(y_test,y_pred)\n",
    "sns.heatmap(cm, annot=True, fmt=\"d\", cbar=False, xticklabels=['benign', 'malignant'], yticklabels=['benign', 'malignant'])"
   ]
  },
  {
   "cell_type": "code",
   "execution_count": 24,
   "id": "38c876f1",
   "metadata": {},
   "outputs": [],
   "source": [
    "import gradio as gr"
   ]
  },
  {
   "cell_type": "code",
   "execution_count": 25,
   "id": "c2faba75",
   "metadata": {},
   "outputs": [],
   "source": [
    "def Cancer(radius_mean,texture_mean,perimeter_mean,area_mean,smoothness_mean,compactness_mean,concavity_mean,concave_points_mean,symmetry_mean,fractal_dimension_mean,radius_se,texture_se,perimeter_se,area_se,smoothness_se,compactness_se,concavity_se,concave_points_se,symmetry_se,fractal_dimension_se,radius_worst,texture_worst,perimeter_worst,area_worst,smoothness_worst,compactness_worst,concavity_worst,concave_points_worst,symmetry_worst,fractal_dimension_worst):\n",
    "\n",
    "\tx = np.array([radius_mean,texture_mean,perimeter_mean,area_mean,smoothness_mean,compactness_mean,concavity_mean,concave_points_mean,symmetry_mean,fractal_dimension_mean,radius_se,texture_se,perimeter_se,area_se,smoothness_se,compactness_se,concavity_se,concave_points_se,symmetry_se,fractal_dimension_se,radius_worst,texture_worst,perimeter_worst,area_worst,smoothness_worst,compactness_worst,concavity_worst,concave_points_worst,symmetry_worst,fractal_dimension_worst\n",
    "\n",
    "]).reshape(1,30,1)\n",
    "\n",
    "\tprediction = model.predict(x)\n",
    "\n",
    "\tif int(prediction[0][0]) == 1:\n",
    "\t\treturn \"Malignant\"\n",
    "\telse:\n",
    "\t\treturn \"Begign\"\n"
   ]
  },
  {
   "cell_type": "code",
   "execution_count": 26,
   "id": "8c00e03d",
   "metadata": {},
   "outputs": [
    {
     "name": "stderr",
     "output_type": "stream",
     "text": [
      "C:\\Users\\GS\\anaconda3\\lib\\site-packages\\gradio\\outputs.py:22: UserWarning: Usage of gradio.outputs is deprecated, and will not be supported in the future, please import your components from gradio.components\n",
      "  warnings.warn(\n"
     ]
    }
   ],
   "source": [
    "outputs = gr.outputs.Textbox()\n",
    "\n",
    "app = gr.Interface(fn=Cancer, inputs=['number','number','number','number','number','number','number','number','number','number','number','number','number','number','number','number','number','number','number','number','number','number','number','number','number','number','number','number','number','number',], outputs=outputs,description=\"This is a cancer model\")"
   ]
  },
  {
   "cell_type": "code",
   "execution_count": 27,
   "id": "77a23ff0",
   "metadata": {},
   "outputs": [
    {
     "name": "stdout",
     "output_type": "stream",
     "text": [
      "Running on local URL:  http://127.0.0.1:7860\n",
      "\n",
      "To create a public link, set `share=True` in `launch()`.\n"
     ]
    },
    {
     "data": {
      "text/html": [
       "<div><iframe src=\"http://127.0.0.1:7860/\" width=\"100%\" height=\"500\" allow=\"autoplay; camera; microphone; clipboard-read; clipboard-write;\" frameborder=\"0\" allowfullscreen></iframe></div>"
      ],
      "text/plain": [
       "<IPython.core.display.HTML object>"
      ]
     },
     "metadata": {},
     "output_type": "display_data"
    },
    {
     "data": {
      "text/plain": []
     },
     "execution_count": 27,
     "metadata": {},
     "output_type": "execute_result"
    },
    {
     "name": "stdout",
     "output_type": "stream",
     "text": [
      "1/1 [==============================] - 0s 264ms/step\n"
     ]
    }
   ],
   "source": [
    "app.launch()"
   ]
  },
  {
   "cell_type": "code",
   "execution_count": null,
   "id": "23a57cbc",
   "metadata": {},
   "outputs": [],
   "source": []
  },
  {
   "cell_type": "code",
   "execution_count": null,
   "id": "52e803c5",
   "metadata": {},
   "outputs": [],
   "source": []
  }
 ],
 "metadata": {
  "kernelspec": {
   "display_name": "Python 3 (ipykernel)",
   "language": "python",
   "name": "python3"
  },
  "language_info": {
   "codemirror_mode": {
    "name": "ipython",
    "version": 3
   },
   "file_extension": ".py",
   "mimetype": "text/x-python",
   "name": "python",
   "nbconvert_exporter": "python",
   "pygments_lexer": "ipython3",
   "version": "3.9.13"
  },
  "papermill": {
   "default_parameters": {},
   "duration": 31.678097,
   "end_time": "2022-02-13T04:49:05.443097",
   "environment_variables": {},
   "exception": null,
   "input_path": "__notebook__.ipynb",
   "output_path": "__notebook__.ipynb",
   "parameters": {},
   "start_time": "2022-02-13T04:48:33.765000",
   "version": "2.3.3"
  }
 },
 "nbformat": 4,
 "nbformat_minor": 5
}
